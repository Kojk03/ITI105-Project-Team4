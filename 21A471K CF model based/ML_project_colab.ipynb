{
  "nbformat": 4,
  "nbformat_minor": 0,
  "metadata": {
    "accelerator": "GPU",
    "colab": {
      "name": "ML_project_colab.ipynb",
      "provenance": [],
      "collapsed_sections": []
    },
    "kernelspec": {
      "display_name": "Python 3",
      "name": "python3"
    },
    "language_info": {
      "name": "python"
    }
  },
  "cells": [
    {
      "cell_type": "code",
      "metadata": {
        "colab": {
          "base_uri": "https://localhost:8080/"
        },
        "id": "1qfSxcVz6WtO",
        "outputId": "c87253a1-386b-4a6e-84ea-3f8e1f453fbd"
      },
      "source": [
        "!pip install surprise\n",
        "from surprise.model_selection import train_test_split\n",
        "from surprise import Dataset\n",
        "import pandas as pd\n",
        "from surprise import Reader\n",
        "from surprise import SVD, KNNBasic\n",
        "from surprise.model_selection import cross_validate\n",
        "from sklearn.model_selection import train_test_split as sktrain_test_split\n",
        "#!pip install tabulate\n",
        "import numpy as np\n",
        "from surprise import accuracy\n",
        "from surprise.model_selection import GridSearchCV\n",
        "from google.colab import drive\n",
        "drive.mount(\"/content/drive\")\n",
        "\n",
        "my_seed = 42\n",
        "np.random.seed(my_seed)\n",
        "ratings = pd.read_csv('/content/drive/MyDrive/ratings.csv')\n",
        "reader = Reader()\n",
        "raw = Dataset.load_from_df(ratings[['userId','movieId','rating']],reader)\n",
        "trainset, testset = train_test_split(raw, test_size=.3, random_state=42, shuffle=True)\n",
        "\n",
        "grid = {'n_epochs': [5, 10, 15, 20, 25, 30], \n",
        "        'lr_all': [.001, .0025, .005, .0075, .01],\n",
        "        'n_factors': [80, 90, 100, 110, 120],\n",
        "        'reg_all': [0.01, 0.02, 0.03, 0.04]}\n",
        "\n",
        "gs = GridSearchCV(SVD, grid, measures=['rmse', 'mae'], cv=5, n_jobs= -1)\n",
        "gs.fit(raw)\n",
        "\n",
        "print(gs.best_score['mae'])\n",
        "print(gs.best_score['rmse'])\n",
        "print(gs.best_params['mae'])\n",
        "print(gs.best_params['rmse'])"
      ],
      "execution_count": null,
      "outputs": [
        {
          "output_type": "stream",
          "text": [
            "Collecting surprise\n",
            "  Downloading surprise-0.1-py2.py3-none-any.whl (1.8 kB)\n",
            "Collecting scikit-surprise\n",
            "  Downloading scikit-surprise-1.1.1.tar.gz (11.8 MB)\n",
            "\u001b[K     |████████████████████████████████| 11.8 MB 9.9 MB/s \n",
            "\u001b[?25hRequirement already satisfied: joblib>=0.11 in /usr/local/lib/python3.7/dist-packages (from scikit-surprise->surprise) (1.0.1)\n",
            "Requirement already satisfied: numpy>=1.11.2 in /usr/local/lib/python3.7/dist-packages (from scikit-surprise->surprise) (1.19.5)\n",
            "Requirement already satisfied: scipy>=1.0.0 in /usr/local/lib/python3.7/dist-packages (from scikit-surprise->surprise) (1.4.1)\n",
            "Requirement already satisfied: six>=1.10.0 in /usr/local/lib/python3.7/dist-packages (from scikit-surprise->surprise) (1.15.0)\n",
            "Building wheels for collected packages: scikit-surprise\n",
            "  Building wheel for scikit-surprise (setup.py) ... \u001b[?25l\u001b[?25hdone\n",
            "  Created wheel for scikit-surprise: filename=scikit_surprise-1.1.1-cp37-cp37m-linux_x86_64.whl size=1619429 sha256=88a7dc642793c1729d5a04fd0751699f3eb02e38601303985d9cafe41ebff8f7\n",
            "  Stored in directory: /root/.cache/pip/wheels/76/44/74/b498c42be47b2406bd27994e16c5188e337c657025ab400c1c\n",
            "Successfully built scikit-surprise\n",
            "Installing collected packages: scikit-surprise, surprise\n",
            "Successfully installed scikit-surprise-1.1.1 surprise-0.1\n",
            "Mounted at /content/drive\n"
          ],
          "name": "stdout"
        }
      ]
    },
    {
      "cell_type": "code",
      "metadata": {
        "id": "JFSwlEyJ7Dgb"
      },
      "source": [
        ""
      ],
      "execution_count": null,
      "outputs": []
    }
  ]
}